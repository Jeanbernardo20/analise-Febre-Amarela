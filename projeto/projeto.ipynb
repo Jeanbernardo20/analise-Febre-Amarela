{
 "cells": [
  {
   "cell_type": "code",
   "execution_count": 1,
   "metadata": {},
   "outputs": [],
   "source": [
    "import pandas as pd\n",
    "import numpy as np\n",
    "import matplotlib as plt\n",
    "import os\n"
   ]
  },
  {
   "cell_type": "code",
   "execution_count": 2,
   "metadata": {},
   "outputs": [
    {
     "name": "stdout",
     "output_type": "stream",
     "text": [
      "C:\\analise_ frebre_ amarela\\asset\n"
     ]
    }
   ],
   "source": [
    "os.chdir('C:\\\\analise_ frebre_ amarela\\\\asset') #entra na pasta do dastaset\n",
    "print(os.getcwd())"
   ]
  },
  {
   "cell_type": "markdown",
   "metadata": {},
   "source": [
    "1 Entendimento dos Dados\n",
    "| Objetivo - Identificar as informações relevantes que serão necessárias para compor o objetivo do projeto, reconhecido como a confecção de um painel interativo (Dashboard).\n",
    "\n",
    "Revisão dos dados\n",
    "| Objetivo - Identificar as colunas de maior relevância, com base nas informações recebida e definidas como análises \n",
    "\n",
    "Identificação:\n",
    "\n",
    "* ID: Identificador sequencial único \n",
    "\n",
    "* MACRORREG_LPI: Sigla da macrorregião do local provável de infecção \n",
    "\n",
    "* COD_UF_LPI: Código IBGE da Unidade Federada do local provável de infecção.\n",
    "\n",
    "* UF_LPI: Sigla da Unidade Federada do local provável de infecção.\n",
    "\n",
    "* COD_MUN_LPI: Código IBGE do município do local provável de infecção.\n",
    "  \n",
    "* SEXO IDADE: Sexo do indivíduo Idade do indivíduo.\n",
    "   \n",
    "* DT_IS: Data de início dos sintomas do indivíduo (dd/mm/aaaa).\n",
    "  \n",
    "* SE_IS : Semana epidemiológica de início dos sintomas do indivíduo.\n",
    "\n",
    "* MES_IS: Mês de início dos sintomas do indivíduo.\n",
    "\n",
    "* ANO_IS: Ano de início dos sintomas do indivíduo.\n",
    "\n",
    "* MONITORAMENTO_IS: Período de monitoramento de início dos sintomas do indivíduo.\n",
    "\n",
    "* OBITO: Evolução para o óbito.\n",
    "\n",
    "* DT_OBITO: Data do óbito (dd/mm/aaaa).\n",
    "\n"
   ]
  },
  {
   "cell_type": "code",
   "execution_count": 4,
   "metadata": {},
   "outputs": [
    {
     "data": {
      "text/html": [
       "<div>\n",
       "<style scoped>\n",
       "    .dataframe tbody tr th:only-of-type {\n",
       "        vertical-align: middle;\n",
       "    }\n",
       "\n",
       "    .dataframe tbody tr th {\n",
       "        vertical-align: top;\n",
       "    }\n",
       "\n",
       "    .dataframe thead th {\n",
       "        text-align: right;\n",
       "    }\n",
       "</style>\n",
       "<table border=\"1\" class=\"dataframe\">\n",
       "  <thead>\n",
       "    <tr style=\"text-align: right;\">\n",
       "      <th></th>\n",
       "      <th>ID</th>\n",
       "      <th>MACRORREG_LPI</th>\n",
       "      <th>COD_UF_LPI</th>\n",
       "      <th>UF_LPI</th>\n",
       "      <th>COD_MUN_LPI</th>\n",
       "      <th>MUN_LPI</th>\n",
       "      <th>SEXO</th>\n",
       "      <th>IDADE</th>\n",
       "      <th>DT_IS</th>\n",
       "      <th>SE_IS</th>\n",
       "      <th>MES_IS</th>\n",
       "      <th>ANO_IS</th>\n",
       "      <th>MONITORAMENTO_IS</th>\n",
       "      <th>OBITO</th>\n",
       "      <th>DT_OBITO</th>\n",
       "    </tr>\n",
       "  </thead>\n",
       "  <tbody>\n",
       "    <tr>\n",
       "      <th>0</th>\n",
       "      <td>1</td>\n",
       "      <td>N</td>\n",
       "      <td>14</td>\n",
       "      <td>RR</td>\n",
       "      <td>140005.0</td>\n",
       "      <td>ALTO ALEGRE</td>\n",
       "      <td>M</td>\n",
       "      <td>NaN</td>\n",
       "      <td>29/11/1994</td>\n",
       "      <td>48.0</td>\n",
       "      <td>11.0</td>\n",
       "      <td>1994</td>\n",
       "      <td>1994/1995</td>\n",
       "      <td>SIM</td>\n",
       "      <td>01/12/1994</td>\n",
       "    </tr>\n",
       "    <tr>\n",
       "      <th>1</th>\n",
       "      <td>2</td>\n",
       "      <td>N</td>\n",
       "      <td>14</td>\n",
       "      <td>RR</td>\n",
       "      <td>140045.0</td>\n",
       "      <td>PACARAIMA</td>\n",
       "      <td>M</td>\n",
       "      <td>19</td>\n",
       "      <td>19/02/1995</td>\n",
       "      <td>8.0</td>\n",
       "      <td>2.0</td>\n",
       "      <td>1995</td>\n",
       "      <td>1994/1995</td>\n",
       "      <td>NÃO</td>\n",
       "      <td>NaN</td>\n",
       "    </tr>\n",
       "    <tr>\n",
       "      <th>2</th>\n",
       "      <td>3</td>\n",
       "      <td>NE</td>\n",
       "      <td>21</td>\n",
       "      <td>MA</td>\n",
       "      <td>210060.0</td>\n",
       "      <td>AMARANTE DO MARANHÃO</td>\n",
       "      <td>M</td>\n",
       "      <td>32</td>\n",
       "      <td>01/04/1995</td>\n",
       "      <td>13.0</td>\n",
       "      <td>4.0</td>\n",
       "      <td>1995</td>\n",
       "      <td>1994/1995</td>\n",
       "      <td>IGN</td>\n",
       "      <td>NaN</td>\n",
       "    </tr>\n",
       "    <tr>\n",
       "      <th>3</th>\n",
       "      <td>4</td>\n",
       "      <td>NE</td>\n",
       "      <td>21</td>\n",
       "      <td>MA</td>\n",
       "      <td>210060.0</td>\n",
       "      <td>AMARANTE DO MARANHÃO</td>\n",
       "      <td>M</td>\n",
       "      <td>33</td>\n",
       "      <td>03/04/1995</td>\n",
       "      <td>14.0</td>\n",
       "      <td>4.0</td>\n",
       "      <td>1995</td>\n",
       "      <td>1994/1995</td>\n",
       "      <td>SIM</td>\n",
       "      <td>09/04/1995</td>\n",
       "    </tr>\n",
       "    <tr>\n",
       "      <th>4</th>\n",
       "      <td>5</td>\n",
       "      <td>N</td>\n",
       "      <td>15</td>\n",
       "      <td>PA</td>\n",
       "      <td>150270.0</td>\n",
       "      <td>CONCEIÇÃO DO ARAGUAIA</td>\n",
       "      <td>M</td>\n",
       "      <td>26</td>\n",
       "      <td>12/04/1995</td>\n",
       "      <td>15.0</td>\n",
       "      <td>4.0</td>\n",
       "      <td>1995</td>\n",
       "      <td>1994/1995</td>\n",
       "      <td>SIM</td>\n",
       "      <td>20/04/1995</td>\n",
       "    </tr>\n",
       "  </tbody>\n",
       "</table>\n",
       "</div>"
      ],
      "text/plain": [
       "   ID MACRORREG_LPI  COD_UF_LPI UF_LPI  COD_MUN_LPI                MUN_LPI  \\\n",
       "0   1             N          14     RR     140005.0            ALTO ALEGRE   \n",
       "1   2             N          14     RR     140045.0              PACARAIMA   \n",
       "2   3            NE          21     MA     210060.0   AMARANTE DO MARANHÃO   \n",
       "3   4            NE          21     MA     210060.0   AMARANTE DO MARANHÃO   \n",
       "4   5             N          15     PA     150270.0  CONCEIÇÃO DO ARAGUAIA   \n",
       "\n",
       "  SEXO IDADE       DT_IS  SE_IS  MES_IS  ANO_IS MONITORAMENTO_IS OBITO  \\\n",
       "0    M   NaN  29/11/1994   48.0    11.0    1994        1994/1995   SIM   \n",
       "1    M    19  19/02/1995    8.0     2.0    1995        1994/1995   NÃO   \n",
       "2    M    32  01/04/1995   13.0     4.0    1995        1994/1995   IGN   \n",
       "3    M    33  03/04/1995   14.0     4.0    1995        1994/1995   SIM   \n",
       "4    M    26  12/04/1995   15.0     4.0    1995        1994/1995   SIM   \n",
       "\n",
       "     DT_OBITO  \n",
       "0  01/12/1994  \n",
       "1         NaN  \n",
       "2         NaN  \n",
       "3  09/04/1995  \n",
       "4  20/04/1995  "
      ]
     },
     "execution_count": 4,
     "metadata": {},
     "output_type": "execute_result"
    }
   ],
   "source": [
    "df = pd.read_csv(\"dataset.csv\", encoding='latin-1', delimiter=';')\n",
    "df.head()"
   ]
  },
  {
   "cell_type": "code",
   "execution_count": 5,
   "metadata": {},
   "outputs": [],
   "source": [
    "#dropando as colunas que não serão utilizada\n",
    "df.drop(columns=['MACRORREG_LPI', 'COD_UF_LPI', 'COD_MUN_LPI','DT_IS', 'SE_IS'], inplace=True)"
   ]
  },
  {
   "cell_type": "code",
   "execution_count": null,
   "metadata": {},
   "outputs": [],
   "source": [
    "#renomendando as colunas\n",
    "df.rename(columns={\n",
    "    'UF_LPI':'UF',\n",
    "    'MUN_LPI': 'MUNICIPIO',\n",
    "    'SE_IS': 'SEMANA_INICIO_SINTOMA',\n",
    "    'MES_IS': 'MES_INICIO_SINTOMA',\n",
    "    'ANO_IS': 'ANO_INICIO_SINTOMA',\n",
    "    })"
   ]
  },
  {
   "cell_type": "code",
   "execution_count": 9,
   "metadata": {},
   "outputs": [
    {
     "ename": "ImportError",
     "evalue": "Missing optional dependency 'Jinja2'. DataFrame.style requires jinja2. Use pip or conda to install Jinja2.",
     "output_type": "error",
     "traceback": [
      "\u001b[1;31m---------------------------------------------------------------------------\u001b[0m",
      "\u001b[1;31mModuleNotFoundError\u001b[0m                       Traceback (most recent call last)",
      "File \u001b[1;32mc:\\Users\\USER\\AppData\\Local\\Programs\\Python\\Python312\\Lib\\site-packages\\pandas\\compat\\_optional.py:135\u001b[0m, in \u001b[0;36mimport_optional_dependency\u001b[1;34m(name, extra, errors, min_version)\u001b[0m\n\u001b[0;32m    134\u001b[0m \u001b[38;5;28;01mtry\u001b[39;00m:\n\u001b[1;32m--> 135\u001b[0m     module \u001b[38;5;241m=\u001b[39m \u001b[43mimportlib\u001b[49m\u001b[38;5;241;43m.\u001b[39;49m\u001b[43mimport_module\u001b[49m\u001b[43m(\u001b[49m\u001b[43mname\u001b[49m\u001b[43m)\u001b[49m\n\u001b[0;32m    136\u001b[0m \u001b[38;5;28;01mexcept\u001b[39;00m \u001b[38;5;167;01mImportError\u001b[39;00m:\n",
      "File \u001b[1;32mc:\\Users\\USER\\AppData\\Local\\Programs\\Python\\Python312\\Lib\\importlib\\__init__.py:90\u001b[0m, in \u001b[0;36mimport_module\u001b[1;34m(name, package)\u001b[0m\n\u001b[0;32m     89\u001b[0m         level \u001b[38;5;241m+\u001b[39m\u001b[38;5;241m=\u001b[39m \u001b[38;5;241m1\u001b[39m\n\u001b[1;32m---> 90\u001b[0m \u001b[38;5;28;01mreturn\u001b[39;00m \u001b[43m_bootstrap\u001b[49m\u001b[38;5;241;43m.\u001b[39;49m\u001b[43m_gcd_import\u001b[49m\u001b[43m(\u001b[49m\u001b[43mname\u001b[49m\u001b[43m[\u001b[49m\u001b[43mlevel\u001b[49m\u001b[43m:\u001b[49m\u001b[43m]\u001b[49m\u001b[43m,\u001b[49m\u001b[43m \u001b[49m\u001b[43mpackage\u001b[49m\u001b[43m,\u001b[49m\u001b[43m \u001b[49m\u001b[43mlevel\u001b[49m\u001b[43m)\u001b[49m\n",
      "File \u001b[1;32m<frozen importlib._bootstrap>:1387\u001b[0m, in \u001b[0;36m_gcd_import\u001b[1;34m(name, package, level)\u001b[0m\n",
      "File \u001b[1;32m<frozen importlib._bootstrap>:1360\u001b[0m, in \u001b[0;36m_find_and_load\u001b[1;34m(name, import_)\u001b[0m\n",
      "File \u001b[1;32m<frozen importlib._bootstrap>:1324\u001b[0m, in \u001b[0;36m_find_and_load_unlocked\u001b[1;34m(name, import_)\u001b[0m\n",
      "\u001b[1;31mModuleNotFoundError\u001b[0m: No module named 'jinja2'",
      "\nDuring handling of the above exception, another exception occurred:\n",
      "\u001b[1;31mImportError\u001b[0m                               Traceback (most recent call last)",
      "Cell \u001b[1;32mIn[9], line 9\u001b[0m\n\u001b[0;32m      1\u001b[0m \u001b[38;5;66;03m#identificar e mostrar valores nulos \u001b[39;00m\n\u001b[0;32m      2\u001b[0m df_missing \u001b[38;5;241m=\u001b[39m (\n\u001b[0;32m      3\u001b[0m   df\u001b[38;5;241m.\u001b[39misna()\u001b[38;5;241m.\u001b[39msum()\n\u001b[0;32m      4\u001b[0m   \u001b[38;5;241m.\u001b[39mto_frame(\u001b[38;5;124m'\u001b[39m\u001b[38;5;124mqtd_dadosfaltantes\u001b[39m\u001b[38;5;124m'\u001b[39m)\n\u001b[0;32m      5\u001b[0m   \u001b[38;5;241m.\u001b[39mjoin((df\u001b[38;5;241m.\u001b[39misna()\u001b[38;5;241m.\u001b[39msum() \u001b[38;5;241m/\u001b[39m df\u001b[38;5;241m.\u001b[39mshape[\u001b[38;5;241m0\u001b[39m])\u001b[38;5;241m.\u001b[39mto_frame(\u001b[38;5;124m'\u001b[39m\u001b[38;5;124m%\u001b[39m\u001b[38;5;124m_dadosfaltantes\u001b[39m\u001b[38;5;124m'\u001b[39m))\n\u001b[0;32m      6\u001b[0m   \u001b[38;5;241m.\u001b[39msort_values(\u001b[38;5;124m'\u001b[39m\u001b[38;5;124mqtd_dadosfaltantes\u001b[39m\u001b[38;5;124m'\u001b[39m, ascending\u001b[38;5;241m=\u001b[39m\u001b[38;5;28;01mFalse\u001b[39;00m)\n\u001b[0;32m      7\u001b[0m )\n\u001b[1;32m----> 9\u001b[0m \u001b[43mdf_missing\u001b[49m\u001b[38;5;241;43m.\u001b[39;49m\u001b[43mstyle\u001b[49m\u001b[38;5;241m.\u001b[39mformat(\u001b[38;5;124m'\u001b[39m\u001b[38;5;132;01m{:.2%}\u001b[39;00m\u001b[38;5;124m'\u001b[39m, subset\u001b[38;5;241m=\u001b[39m[\u001b[38;5;124m'\u001b[39m\u001b[38;5;124mpercentagem_dadosfaltantes\u001b[39m\u001b[38;5;124m'\u001b[39m])\n",
      "File \u001b[1;32mc:\\Users\\USER\\AppData\\Local\\Programs\\Python\\Python312\\Lib\\site-packages\\pandas\\core\\frame.py:1442\u001b[0m, in \u001b[0;36mDataFrame.style\u001b[1;34m(self)\u001b[0m\n\u001b[0;32m   1422\u001b[0m \u001b[38;5;129m@property\u001b[39m\n\u001b[0;32m   1423\u001b[0m \u001b[38;5;28;01mdef\u001b[39;00m \u001b[38;5;21mstyle\u001b[39m(\u001b[38;5;28mself\u001b[39m) \u001b[38;5;241m-\u001b[39m\u001b[38;5;241m>\u001b[39m Styler:\n\u001b[0;32m   1424\u001b[0m \u001b[38;5;250m    \u001b[39m\u001b[38;5;124;03m\"\"\"\u001b[39;00m\n\u001b[0;32m   1425\u001b[0m \u001b[38;5;124;03m    Returns a Styler object.\u001b[39;00m\n\u001b[0;32m   1426\u001b[0m \n\u001b[1;32m   (...)\u001b[0m\n\u001b[0;32m   1440\u001b[0m \u001b[38;5;124;03m    `Table Visualization <../../user_guide/style.ipynb>`_ for more examples.\u001b[39;00m\n\u001b[0;32m   1441\u001b[0m \u001b[38;5;124;03m    \"\"\"\u001b[39;00m\n\u001b[1;32m-> 1442\u001b[0m     \u001b[38;5;28;01mfrom\u001b[39;00m \u001b[38;5;21;01mpandas\u001b[39;00m\u001b[38;5;21;01m.\u001b[39;00m\u001b[38;5;21;01mio\u001b[39;00m\u001b[38;5;21;01m.\u001b[39;00m\u001b[38;5;21;01mformats\u001b[39;00m\u001b[38;5;21;01m.\u001b[39;00m\u001b[38;5;21;01mstyle\u001b[39;00m \u001b[38;5;28;01mimport\u001b[39;00m Styler\n\u001b[0;32m   1444\u001b[0m     \u001b[38;5;28;01mreturn\u001b[39;00m Styler(\u001b[38;5;28mself\u001b[39m)\n",
      "File \u001b[1;32mc:\\Users\\USER\\AppData\\Local\\Programs\\Python\\Python312\\Lib\\site-packages\\pandas\\io\\formats\\style.py:44\u001b[0m\n\u001b[0;32m     40\u001b[0m \u001b[38;5;28;01mfrom\u001b[39;00m \u001b[38;5;21;01mpandas\u001b[39;00m\u001b[38;5;21;01m.\u001b[39;00m\u001b[38;5;21;01mcore\u001b[39;00m\u001b[38;5;21;01m.\u001b[39;00m\u001b[38;5;21;01mshared_docs\u001b[39;00m \u001b[38;5;28;01mimport\u001b[39;00m _shared_docs\n\u001b[0;32m     42\u001b[0m \u001b[38;5;28;01mfrom\u001b[39;00m \u001b[38;5;21;01mpandas\u001b[39;00m\u001b[38;5;21;01m.\u001b[39;00m\u001b[38;5;21;01mio\u001b[39;00m\u001b[38;5;21;01m.\u001b[39;00m\u001b[38;5;21;01mformats\u001b[39;00m\u001b[38;5;21;01m.\u001b[39;00m\u001b[38;5;21;01mformat\u001b[39;00m \u001b[38;5;28;01mimport\u001b[39;00m save_to_buffer\n\u001b[1;32m---> 44\u001b[0m jinja2 \u001b[38;5;241m=\u001b[39m \u001b[43mimport_optional_dependency\u001b[49m\u001b[43m(\u001b[49m\u001b[38;5;124;43m\"\u001b[39;49m\u001b[38;5;124;43mjinja2\u001b[39;49m\u001b[38;5;124;43m\"\u001b[39;49m\u001b[43m,\u001b[49m\u001b[43m \u001b[49m\u001b[43mextra\u001b[49m\u001b[38;5;241;43m=\u001b[39;49m\u001b[38;5;124;43m\"\u001b[39;49m\u001b[38;5;124;43mDataFrame.style requires jinja2.\u001b[39;49m\u001b[38;5;124;43m\"\u001b[39;49m\u001b[43m)\u001b[49m\n\u001b[0;32m     46\u001b[0m \u001b[38;5;28;01mfrom\u001b[39;00m \u001b[38;5;21;01mpandas\u001b[39;00m\u001b[38;5;21;01m.\u001b[39;00m\u001b[38;5;21;01mio\u001b[39;00m\u001b[38;5;21;01m.\u001b[39;00m\u001b[38;5;21;01mformats\u001b[39;00m\u001b[38;5;21;01m.\u001b[39;00m\u001b[38;5;21;01mstyle_render\u001b[39;00m \u001b[38;5;28;01mimport\u001b[39;00m (\n\u001b[0;32m     47\u001b[0m     CSSProperties,\n\u001b[0;32m     48\u001b[0m     CSSStyles,\n\u001b[1;32m   (...)\u001b[0m\n\u001b[0;32m     56\u001b[0m     refactor_levels,\n\u001b[0;32m     57\u001b[0m )\n\u001b[0;32m     59\u001b[0m \u001b[38;5;28;01mif\u001b[39;00m TYPE_CHECKING:\n",
      "File \u001b[1;32mc:\\Users\\USER\\AppData\\Local\\Programs\\Python\\Python312\\Lib\\site-packages\\pandas\\compat\\_optional.py:138\u001b[0m, in \u001b[0;36mimport_optional_dependency\u001b[1;34m(name, extra, errors, min_version)\u001b[0m\n\u001b[0;32m    136\u001b[0m \u001b[38;5;28;01mexcept\u001b[39;00m \u001b[38;5;167;01mImportError\u001b[39;00m:\n\u001b[0;32m    137\u001b[0m     \u001b[38;5;28;01mif\u001b[39;00m errors \u001b[38;5;241m==\u001b[39m \u001b[38;5;124m\"\u001b[39m\u001b[38;5;124mraise\u001b[39m\u001b[38;5;124m\"\u001b[39m:\n\u001b[1;32m--> 138\u001b[0m         \u001b[38;5;28;01mraise\u001b[39;00m \u001b[38;5;167;01mImportError\u001b[39;00m(msg)\n\u001b[0;32m    139\u001b[0m     \u001b[38;5;28;01mreturn\u001b[39;00m \u001b[38;5;28;01mNone\u001b[39;00m\n\u001b[0;32m    141\u001b[0m \u001b[38;5;66;03m# Handle submodules: if we have submodule, grab parent module from sys.modules\u001b[39;00m\n",
      "\u001b[1;31mImportError\u001b[0m: Missing optional dependency 'Jinja2'. DataFrame.style requires jinja2. Use pip or conda to install Jinja2."
     ]
    }
   ],
   "source": [
    "#identificar e mostrar valores nulos \n",
    "df_missing = (\n",
    "  df.isna().sum()\n",
    "  .to_frame('qtd_dadosfaltantes')\n",
    "  .join((df.isna().sum() / df.shape[0]).to_frame('%_dadosfaltantes'))\n",
    "  .sort_values('qtd_dadosfaltantes', ascending=False)\n",
    ")\n",
    "\n",
    "df_missing.style.format('{:.2%}', subset=['percentagem_dadosfaltantes'])"
   ]
  },
  {
   "cell_type": "code",
   "execution_count": null,
   "metadata": {},
   "outputs": [],
   "source": []
  },
  {
   "cell_type": "code",
   "execution_count": null,
   "metadata": {},
   "outputs": [],
   "source": []
  },
  {
   "cell_type": "code",
   "execution_count": null,
   "metadata": {},
   "outputs": [],
   "source": []
  },
  {
   "cell_type": "code",
   "execution_count": null,
   "metadata": {},
   "outputs": [],
   "source": []
  },
  {
   "cell_type": "code",
   "execution_count": null,
   "metadata": {},
   "outputs": [],
   "source": []
  },
  {
   "cell_type": "code",
   "execution_count": null,
   "metadata": {},
   "outputs": [],
   "source": []
  }
 ],
 "metadata": {
  "kernelspec": {
   "display_name": "Python 3",
   "language": "python",
   "name": "python3"
  },
  "language_info": {
   "codemirror_mode": {
    "name": "ipython",
    "version": 3
   },
   "file_extension": ".py",
   "mimetype": "text/x-python",
   "name": "python",
   "nbconvert_exporter": "python",
   "pygments_lexer": "ipython3",
   "version": "3.12.6"
  }
 },
 "nbformat": 4,
 "nbformat_minor": 2
}
